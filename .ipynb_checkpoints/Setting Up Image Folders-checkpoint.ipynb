{
 "cells": [
  {
   "cell_type": "code",
   "execution_count": 5,
   "id": "b33fb2e9-7d3c-448a-b53d-8e357ea61101",
   "metadata": {},
   "outputs": [],
   "source": [
    "## Extracting all image segments from image dataset\n",
    "\n",
    "# Importing libraries\n",
    "import os\n",
    "import cv2 as cv\n",
    "import pandas as pd\n",
    "import splitfolders\n",
    "\n",
    "\n",
    "# Reading in the .JSON file into a dataframe\n",
    "# df = pd.read_json(r\"C:\\Users\\pacmo\\OneDrive - Tennessee State University\\Master Classes\\Spring 2024\\Research\\EPRI Image Data\\Insulator Defect Image Dataset V1.2\\labels_v1.2.json\")\n",
    "# directory_n = \"C:/Users/pacmo/OneDrive - Tennessee State University/Master Classes/Spring 2024/Research/EPRI Image Data/Insulator Defect Image Dataset V1.2/Train/Image Segments/No Issues/\"\n",
    "# directory_b = \"C:/Users/pacmo/OneDrive - Tennessee State University/Master Classes/Spring 2024/Research/EPRI Image Data/Insulator Defect Image Dataset V1.2/Train/Image Segments/Broken/\"\n",
    "# directory_f = \"C:/Users/pacmo/OneDrive - Tennessee State University/Master Classes/Spring 2024/Research/EPRI Image Data/Insulator Defect Image Dataset V1.2/Train/Image Segments/Flashover/\""
   ]
  },
  {
   "cell_type": "code",
   "execution_count": 11,
   "id": "cd1b55ff-efaa-42b4-8962-e476d61f6ecb",
   "metadata": {},
   "outputs": [
    {
     "name": "stderr",
     "output_type": "stream",
     "text": [
      "Copying files: 1600 files [00:29, 54.07 files/s]\n"
     ]
    }
   ],
   "source": [
    "# Create Train, Test, and Validation Folders\n",
    "\n",
    "# Use the Split Folders function to split up the images into train, test, and validation folders\n",
    "# Seed 1912 used for TSU founding date\n",
    "# UNCOMMENT WHEN NEEDED splitfolders.ratio('Image Data', output=\"Data\", seed=1912, ratio=(0.7, 0.1 ,0.2))\n",
    "\n",
    "# CUT AND PASTE the images out of the \"Image\" Folder in each split and paste them at the root (e.g. train/IMG.jpg)\n",
    "# Created the JSON files using this website - https://data.page/csv/json"
   ]
  },
  {
   "cell_type": "code",
   "execution_count": 69,
   "id": "8147a732-ad65-4c5d-801e-de2a4c631a49",
   "metadata": {},
   "outputs": [],
   "source": [
    "# Creating CSV Files for Train, Test, and Valid\n",
    "import csv\n",
    "with open('train.csv', 'w', newline='') as file:\n",
    "    writer = csv.writer(file)\n",
    "    writer.writerow(['image', 'annotations__label', 'annotations__coordinates__x', 'annotations__coordinates__y', 'annotations__coordinates__width', 'annotations__coordinates__height'])\n",
    "    file.close()\n",
    "\n",
    "with open('test.csv', 'w', newline='') as file:\n",
    "    writer = csv.writer(file)\n",
    "    writer.writerow(['image', 'annotations__label', 'annotations__coordinates__x', 'annotations__coordinates__y', 'annotations__coordinates__width', 'annotations__coordinates__height'])\n",
    "    file.close()\n",
    "\n",
    "with open('valid.csv', 'w', newline='') as file:\n",
    "    writer = csv.writer(file)\n",
    "    writer.writerow(['image', 'annotations__label', 'annotations__coordinates__x', 'annotations__coordinates__y', 'annotations__coordinates__width', 'annotations__coordinates__height'])\n",
    "    file.close()"
   ]
  },
  {
   "cell_type": "code",
   "execution_count": 71,
   "id": "fbc0682d-b474-4db9-b453-e9f82b69b964",
   "metadata": {},
   "outputs": [
    {
     "name": "stdout",
     "output_type": "stream",
     "text": [
      "100228.JPG\n",
      "100228h.JPG\n"
     ]
    },
    {
     "ename": "AttributeError",
     "evalue": "'NoneType' object has no attribute 'values'",
     "output_type": "error",
     "traceback": [
      "\u001b[1;31m---------------------------------------------------------------------------\u001b[0m",
      "\u001b[1;31mAttributeError\u001b[0m                            Traceback (most recent call last)",
      "Cell \u001b[1;32mIn[71], line 25\u001b[0m\n\u001b[0;32m     23\u001b[0m \u001b[38;5;28;01mfor\u001b[39;00m l \u001b[38;5;129;01min\u001b[39;00m \u001b[38;5;28mrange\u001b[39m(\u001b[38;5;241m1\u001b[39m, \u001b[38;5;28mlen\u001b[39m(objects)): \u001b[38;5;66;03m# iterating through each object in image\u001b[39;00m\n\u001b[0;32m     24\u001b[0m     [X, Y, W, H] \u001b[38;5;241m=\u001b[39m objects[l]\u001b[38;5;241m.\u001b[39mget(\u001b[38;5;124m'\u001b[39m\u001b[38;5;124mbbox\u001b[39m\u001b[38;5;124m'\u001b[39m)\n\u001b[1;32m---> 25\u001b[0m     conditions \u001b[38;5;241m=\u001b[39m objects[l]\u001b[38;5;241m.\u001b[39mget(\u001b[38;5;124m'\u001b[39m\u001b[38;5;124mconditions\u001b[39m\u001b[38;5;124m'\u001b[39m)\u001b[38;5;241m.\u001b[39mvalues()\n\u001b[0;32m     26\u001b[0m     condition \u001b[38;5;241m=\u001b[39m \u001b[38;5;28mlist\u001b[39m(conditions)[\u001b[38;5;241m0\u001b[39m]\n\u001b[0;32m     27\u001b[0m     \u001b[38;5;28;01mif\u001b[39;00m condition \u001b[38;5;241m==\u001b[39m \u001b[38;5;124m'\u001b[39m\u001b[38;5;124mnotbroken-notflashed\u001b[39m\u001b[38;5;124m'\u001b[39m:\n",
      "\u001b[1;31mAttributeError\u001b[0m: 'NoneType' object has no attribute 'values'"
     ]
    }
   ],
   "source": [
    "# Load in the JSON file and create 3 CSV files from Pandas for the Train, Test, and Val folders\n",
    "df = pd.read_json('labels_v1.2.json')\n",
    "path_train = \"C:/Users/pacmo/OneDrive - Tennessee State University/Research Work (Fresh Start)/Data/train\"\n",
    "path_test = \"C:/Users/pacmo/OneDrive - Tennessee State University/Research Work (Fresh Start)/Data/test\"\n",
    "path_valid = \"C:/Users/pacmo/OneDrive - Tennessee State University/Research Work (Fresh Start)/Data/valid\"\n",
    "\n",
    "for i in range(0, len(df)): #iterating through each image\n",
    "    name = df['filename'][i] # image file name\n",
    "    print(name)\n",
    "    # try:\n",
    "    objects = df['Labels'].iloc[i]\n",
    "    objects = objects['objects']\n",
    "    [X, Y, W, H] = objects[0].get('bbox')\n",
    "        try:\n",
    "            conditions = objects[0].get('conditions').values()\n",
    "            condition = list(conditions)[0]\n",
    "            if condition == 'notbroken-notflashed':\n",
    "                condition = 'No issues'\n",
    "        except:\n",
    "            pass\n",
    "    if os.path.isfile(os.path.join(path_train, name)):\n",
    "        with open('train.csv', 'a', newline ='') as file:\n",
    "            writer = csv.writer(file)\n",
    "            writer.writerow([name, condition, X, Y, W,  H])\n",
    "\n",
    "        for l in range(1, len(objects)): # iterating through each object in image\n",
    "            [X, Y, W, H] = objects[l].get('bbox')\n",
    "            try:\n",
    "                conditions = objects[l].get('conditions').values()\n",
    "                condition = list(conditions)[0]\n",
    "                if condition == 'notbroken-notflashed':\n",
    "                    condition = 'No issues'\n",
    "            except:\n",
    "                pass\n",
    "            with open('train.csv', 'a', newline ='') as file:\n",
    "                writer = csv.writer(file)\n",
    "                writer.writerow([\"\", condition, X, Y, W,  H])\n",
    "                \n",
    "    if os.path.isfile(os.path.join(path_test, name)):\n",
    "        with open('test.csv', 'a', newline ='') as file:\n",
    "            writer = csv.writer(file)\n",
    "            writer.writerow([name, condition, X, Y, W,  H])\n",
    "    \n",
    "        for l in range(1, len(objects)): # iterating through each object in image\n",
    "            [X, Y, W, H] = objects[l].get('bbox')\n",
    "            try:\n",
    "                conditions = objects[l].get('conditions').values()\n",
    "                condition = list(conditions)[0]\n",
    "                if condition == 'notbroken-notflashed':\n",
    "                    condition = 'No issues'\n",
    "            except:\n",
    "                pass\n",
    "            with open('test.csv', 'a', newline ='') as file:\n",
    "                writer = csv.writer(file)\n",
    "                writer.writerow([\"\", condition, X, Y, W,  H])\n",
    "\n",
    "    if os.path.isfile(os.path.join(path_valid, name)):\n",
    "        with open('valid.csv', 'a', newline ='') as file:\n",
    "            writer = csv.writer(file)\n",
    "            writer.writerow([name, condition, X, Y, W,  H])\n",
    "    \n",
    "        for l in range(1, len(objects)): # iterating through each object in image\n",
    "            [X, Y, W, H] = objects[l].get('bbox')\n",
    "            try:\n",
    "                conditions = objects[l].get('conditions').values()\n",
    "                condition = list(conditions)[0]\n",
    "                if condition == 'notbroken-notflashed':\n",
    "                    condition = 'No issues'\n",
    "            except:\n",
    "                pass\n",
    "            with open('valid.csv', 'a', newline ='') as file:\n",
    "                writer = csv.writer(file)\n",
    "                writer.writerow([\"\", condition, X, Y, W,  H])\n",
    "    # except:\n",
    "    #     continue"
   ]
  },
  {
   "cell_type": "code",
   "execution_count": null,
   "id": "cb962007-a3f1-4a27-9535-e3f1a0653034",
   "metadata": {},
   "outputs": [],
   "source": []
  }
 ],
 "metadata": {
  "kernelspec": {
   "display_name": "Python 3 (ipykernel)",
   "language": "python",
   "name": "python3"
  },
  "language_info": {
   "codemirror_mode": {
    "name": "ipython",
    "version": 3
   },
   "file_extension": ".py",
   "mimetype": "text/x-python",
   "name": "python",
   "nbconvert_exporter": "python",
   "pygments_lexer": "ipython3",
   "version": "3.11.7"
  }
 },
 "nbformat": 4,
 "nbformat_minor": 5
}
